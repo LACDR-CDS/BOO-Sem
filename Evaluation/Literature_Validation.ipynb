{
 "cells": [
  {
   "cell_type": "markdown",
   "id": "2672b6ff-f2c4-4743-8fc7-58edafc6dcd8",
   "metadata": {},
   "source": [
    "# Introduction\n",
    "\n",
    "This notebook is an attempt to perform a literature validation of the top k scoring pathways using Natural Language Processing (NLP) with BioBERT. This is done to proof that the DRW based scoring algorithms provide more biologically correct results than the EG scoring method.\n",
    "\n",
    "It is still to be decided if this will be used in the BOO report as this might be subjected to bias."
   ]
  },
  {
   "cell_type": "markdown",
   "id": "0576f758-26c5-4f92-b203-4ee4b7fd3857",
   "metadata": {},
   "source": [
    "## Libs"
   ]
  },
  {
   "cell_type": "code",
   "execution_count": 1,
   "id": "8ff9cee2-3b73-4055-bcc2-c33c90dd9f59",
   "metadata": {},
   "outputs": [],
   "source": [
    "from transformers import AutoTokenizer, AutoModel\n",
    "import torch\n",
    "import pandas as pd\n",
    "import os\n",
    "import numpy as np\n",
    "from sklearn.metrics.pairwise import cosine_similarity\n",
    "from Bio import Entrez\n",
    "from tqdm import tqdm"
   ]
  },
  {
   "cell_type": "code",
   "execution_count": 2,
   "id": "64ef3f31-e322-463a-a92f-819cab0e9ed7",
   "metadata": {},
   "outputs": [
    {
     "data": {
      "text/plain": [
       "BertModel(\n",
       "  (embeddings): BertEmbeddings(\n",
       "    (word_embeddings): Embedding(28996, 768, padding_idx=0)\n",
       "    (position_embeddings): Embedding(512, 768)\n",
       "    (token_type_embeddings): Embedding(2, 768)\n",
       "    (LayerNorm): LayerNorm((768,), eps=1e-12, elementwise_affine=True)\n",
       "    (dropout): Dropout(p=0.1, inplace=False)\n",
       "  )\n",
       "  (encoder): BertEncoder(\n",
       "    (layer): ModuleList(\n",
       "      (0-11): 12 x BertLayer(\n",
       "        (attention): BertAttention(\n",
       "          (self): BertSdpaSelfAttention(\n",
       "            (query): Linear(in_features=768, out_features=768, bias=True)\n",
       "            (key): Linear(in_features=768, out_features=768, bias=True)\n",
       "            (value): Linear(in_features=768, out_features=768, bias=True)\n",
       "            (dropout): Dropout(p=0.1, inplace=False)\n",
       "          )\n",
       "          (output): BertSelfOutput(\n",
       "            (dense): Linear(in_features=768, out_features=768, bias=True)\n",
       "            (LayerNorm): LayerNorm((768,), eps=1e-12, elementwise_affine=True)\n",
       "            (dropout): Dropout(p=0.1, inplace=False)\n",
       "          )\n",
       "        )\n",
       "        (intermediate): BertIntermediate(\n",
       "          (dense): Linear(in_features=768, out_features=3072, bias=True)\n",
       "          (intermediate_act_fn): GELUActivation()\n",
       "        )\n",
       "        (output): BertOutput(\n",
       "          (dense): Linear(in_features=3072, out_features=768, bias=True)\n",
       "          (LayerNorm): LayerNorm((768,), eps=1e-12, elementwise_affine=True)\n",
       "          (dropout): Dropout(p=0.1, inplace=False)\n",
       "        )\n",
       "      )\n",
       "    )\n",
       "  )\n",
       "  (pooler): BertPooler(\n",
       "    (dense): Linear(in_features=768, out_features=768, bias=True)\n",
       "    (activation): Tanh()\n",
       "  )\n",
       ")"
      ]
     },
     "execution_count": 2,
     "metadata": {},
     "output_type": "execute_result"
    }
   ],
   "source": [
    "tokenizer = AutoTokenizer.from_pretrained(\"dmis-lab/biobert-base-cased-v1.1\")\n",
    "model = AutoModel.from_pretrained(\"dmis-lab/biobert-base-cased-v1.1\")\n",
    "model.eval()"
   ]
  },
  {
   "cell_type": "markdown",
   "id": "8fc54398-0b3e-4264-98bd-6b4a1660d283",
   "metadata": {},
   "source": [
    "## Functions"
   ]
  },
  {
   "cell_type": "code",
   "execution_count": 3,
   "id": "49978561-2da5-4977-9fe1-f8a2305b627d",
   "metadata": {},
   "outputs": [],
   "source": [
    "def get_embedding(text):\n",
    "    if not isinstance(text, str) or text.strip() == \"\":\n",
    "        return np.zeros(768)\n",
    "    inputs = tokenizer(\n",
    "        text,\n",
    "        return_tensors=\"pt\",\n",
    "        truncation=True,\n",
    "        padding=True,\n",
    "        max_length=512  # <-- belangrijk\n",
    "    )\n",
    "    with torch.no_grad():\n",
    "        outputs = model(**inputs)\n",
    "    return outputs.last_hidden_state.mean(dim=1).squeeze().numpy()\n",
    "\n",
    "def cosine_sim(text1, text2):\n",
    "    return cosine_similarity([get_embedding(text1)], [get_embedding(text2)])[0][0]\n",
    "\n",
    "def fetch_abstracts(query, retmax=50):\n",
    "    \"\"\"This function ...\"\"\"\n",
    "    handle = Entrez.esearch(db=\"pubmed\", term=query, retmax=retmax)\n",
    "    record = Entrez.read(handle)\n",
    "    ids = record[\"IdList\"]\n",
    "    handle = Entrez.efetch(db=\"pubmed\", id=ids, rettype=\"abstract\", retmode=\"text\")\n",
    "    return handle.read()\n",
    "\n",
    "def fetch_pubmed_abstracts(query, max_results=5):\n",
    "    try:\n",
    "        search = Entrez.esearch(db=\"pubmed\", term=query, retmax=max_results)\n",
    "        record = Entrez.read(search)\n",
    "        ids = record[\"IdList\"]\n",
    "        if not ids:\n",
    "            return []\n",
    "        fetch = Entrez.efetch(db=\"pubmed\", id=ids, rettype=\"abstract\", retmode=\"text\")\n",
    "        abstracts = fetch.read().split(\"\\n\\n\")\n",
    "        return [ab.strip() for ab in abstracts if ab.strip()]\n",
    "    except Exception as e:\n",
    "        print(f\"PubMed query failed for '{query}': {e}\")\n",
    "        return []"
   ]
  },
  {
   "cell_type": "markdown",
   "id": "a0fb88b6-7ad3-48e5-a99f-deda80cb4938",
   "metadata": {},
   "source": [
    "# RPTEC"
   ]
  },
  {
   "cell_type": "code",
   "execution_count": 4,
   "id": "1647b38b-99aa-44a5-8971-07486d024467",
   "metadata": {},
   "outputs": [],
   "source": [
    "data_dir = \"C:/Users/semde/Documents/BOO_Scripts/Data/RPTEC_TXG-MAPr\""
   ]
  },
  {
   "cell_type": "code",
   "execution_count": 5,
   "id": "7a137cab-26ba-4d01-9de9-e629120f214c",
   "metadata": {},
   "outputs": [],
   "source": [
    "df_eg_RPTEC = pd.read_csv(os.path.join(data_dir, \"eg_joined_RPTEC.csv\"))\n",
    "df_drw_RPTEC = pd.read_csv(os.path.join(data_dir, \"drw_joined_RPTEC.csv\"))"
   ]
  },
  {
   "cell_type": "markdown",
   "id": "0ca89ece-71db-4c0a-a140-c8349d5e0ab8",
   "metadata": {},
   "source": [
    "## Eigengene scoring"
   ]
  },
  {
   "cell_type": "markdown",
   "id": "5b2c0b6f-62f4-4b9f-b853-2ecd4137a04c",
   "metadata": {},
   "source": [
    "### Preprocessing"
   ]
  },
  {
   "cell_type": "code",
   "execution_count": 6,
   "id": "b94ed53a-9b82-4711-8952-9c24574b598d",
   "metadata": {},
   "outputs": [],
   "source": [
    "df_eg_RPTEC = df_eg_RPTEC[[\"sample_id\", \"abs_eg_score\", \"module_number\", \"annotation\"]]"
   ]
  },
  {
   "cell_type": "code",
   "execution_count": 7,
   "id": "9fcec82c-f525-4aa6-a093-b1af082ae0df",
   "metadata": {},
   "outputs": [
    {
     "name": "stdout",
     "output_type": "stream",
     "text": [
      "                                          sample_id  abs_eg_score  \\\n",
      "2487   LU_HRPTECTERT1_SINGLE_ARISTOLOCHICACID_T3_C2      9.060121   \n",
      "53575       LU_HRPTECTERT1_SINGLE_LEADACETATE_T3_C3      8.701595   \n",
      "2547   LU_HRPTECTERT1_SINGLE_ARISTOLOCHICACID_T2_C3      8.459835   \n",
      "515         LU_HRPTECTERT1_SINGLE_OCHRATOXINA_T2_C2      7.878635   \n",
      "525         LU_HRPTECTERT1_SINGLE_OCHRATOXINA_T2_C3      7.812291   \n",
      "\n",
      "       module_number                                         annotation  \n",
      "2487              11  immune(immune, natural killer cell, lymphocyte...  \n",
      "53575            264  metabolism(metabolism), rna processing(transcr...  \n",
      "2547              11  immune(immune, natural killer cell, lymphocyte...  \n",
      "515                3  metabolism(metabolism), mitochondria(mitochond...  \n",
      "525                3  metabolism(metabolism), mitochondria(mitochond...  \n"
     ]
    }
   ],
   "source": [
    "df_eg_RPTEC = df_eg_RPTEC.sort_values(by=\"abs_eg_score\", ascending=False)\n",
    "print(df_eg_RPTEC.head())"
   ]
  },
  {
   "cell_type": "code",
   "execution_count": 8,
   "id": "c108b668-8749-4053-9b41-c0959a92f78f",
   "metadata": {},
   "outputs": [],
   "source": [
    "df_eg_RPTEC[\"annotation_term\"] = df_eg_RPTEC[\"annotation\"].str.extract(r\"^([^()]+)\") # This extracts the first term before the () for use in the query\n",
    "df_eg_RPTEC[\"condition\"] = df_eg_RPTEC[\"sample_id\"].str.extract(r\"SINGLE_(.*?)_T\") # This extracts only the drug of the experimental condition"
   ]
  },
  {
   "cell_type": "code",
   "execution_count": 9,
   "id": "8350bfb8-a480-4329-9c88-a00dd78521da",
   "metadata": {},
   "outputs": [
    {
     "name": "stdout",
     "output_type": "stream",
     "text": [
      "                                          sample_id  abs_eg_score  \\\n",
      "2487   LU_HRPTECTERT1_SINGLE_ARISTOLOCHICACID_T3_C2      9.060121   \n",
      "53575       LU_HRPTECTERT1_SINGLE_LEADACETATE_T3_C3      8.701595   \n",
      "2547   LU_HRPTECTERT1_SINGLE_ARISTOLOCHICACID_T2_C3      8.459835   \n",
      "515         LU_HRPTECTERT1_SINGLE_OCHRATOXINA_T2_C2      7.878635   \n",
      "525         LU_HRPTECTERT1_SINGLE_OCHRATOXINA_T2_C3      7.812291   \n",
      "\n",
      "       module_number                                         annotation  \\\n",
      "2487              11  immune(immune, natural killer cell, lymphocyte...   \n",
      "53575            264  metabolism(metabolism), rna processing(transcr...   \n",
      "2547              11  immune(immune, natural killer cell, lymphocyte...   \n",
      "515                3  metabolism(metabolism), mitochondria(mitochond...   \n",
      "525                3  metabolism(metabolism), mitochondria(mitochond...   \n",
      "\n",
      "      annotation_term         condition  \n",
      "2487           immune  ARISTOLOCHICACID  \n",
      "53575      metabolism       LEADACETATE  \n",
      "2547           immune  ARISTOLOCHICACID  \n",
      "515        metabolism       OCHRATOXINA  \n",
      "525        metabolism       OCHRATOXINA  \n"
     ]
    }
   ],
   "source": [
    "print(df_eg_RPTEC.head())"
   ]
  },
  {
   "cell_type": "markdown",
   "id": "75b6c805-e02e-4f27-88cb-8306249e56d5",
   "metadata": {},
   "source": [
    "### BioBERT literature validation"
   ]
  },
  {
   "cell_type": "code",
   "execution_count": 16,
   "id": "cdabf506-d8ec-42c9-b34b-687c5f428fb3",
   "metadata": {},
   "outputs": [],
   "source": [
    "k = 10  # top k pathwats\n",
    "df_topk = df_eg_RPTEC.sort_values(by=\"abs_eg_score\", ascending=False).head(k)"
   ]
  },
  {
   "cell_type": "code",
   "execution_count": 17,
   "id": "c53e11eb-c535-4b89-a38d-0a02f6864a29",
   "metadata": {},
   "outputs": [
    {
     "name": "stderr",
     "output_type": "stream",
     "text": [
      "100%|██████████████████████████████████████████████████████████████████████████████████| 10/10 [01:18<00:00,  7.89s/it]\n"
     ]
    }
   ],
   "source": [
    "results = []\n",
    "\n",
    "Entrez.email = \"semdegroot2003@gmail.com\"\n",
    "\n",
    "for _, row in tqdm(df_topk.iterrows(), total=len(df_topk)):\n",
    "    condition = row[\"condition\"]\n",
    "    term = row[\"annotation_term\"]\n",
    "    abs_score = row[\"abs_eg_score\"]\n",
    "\n",
    "    # PubMed query string\n",
    "    query = f'\"{term}\" AND \"{condition}\"'\n",
    "\n",
    "    # Fetch abstracts\n",
    "    abstracts = fetch_pubmed_abstracts(query, max_results=5)\n",
    "\n",
    "    if not abstracts:\n",
    "        avg_sim = np.nan\n",
    "    else:\n",
    "        term_emb = get_embedding(row[\"annotation\"])\n",
    "        sims = [cosine_sim(term_emb, get_embedding(ab)) for ab in abstracts]\n",
    "        avg_sim = np.mean(sims)\n",
    "\n",
    "    results.append({\n",
    "        \"condition\": condition,\n",
    "        \"annotation_term\": term,\n",
    "        \"abs_eg_score\": abs_score,\n",
    "        \"bioBERT_lit_score\": avg_sim,\n",
    "        \"n_abstracts\": len(abstracts)\n",
    "    })\n",
    "\n",
    "df_biobert_validated = pd.DataFrame(results)"
   ]
  },
  {
   "cell_type": "code",
   "execution_count": 18,
   "id": "a2164dcc-64d1-47f2-8327-bd426d1e57e4",
   "metadata": {},
   "outputs": [
    {
     "data": {
      "text/html": [
       "<div>\n",
       "<style scoped>\n",
       "    .dataframe tbody tr th:only-of-type {\n",
       "        vertical-align: middle;\n",
       "    }\n",
       "\n",
       "    .dataframe tbody tr th {\n",
       "        vertical-align: top;\n",
       "    }\n",
       "\n",
       "    .dataframe thead th {\n",
       "        text-align: right;\n",
       "    }\n",
       "</style>\n",
       "<table border=\"1\" class=\"dataframe\">\n",
       "  <thead>\n",
       "    <tr style=\"text-align: right;\">\n",
       "      <th></th>\n",
       "      <th>condition</th>\n",
       "      <th>annotation_term</th>\n",
       "      <th>abs_eg_score</th>\n",
       "      <th>bioBERT_lit_score</th>\n",
       "      <th>n_abstracts</th>\n",
       "    </tr>\n",
       "  </thead>\n",
       "  <tbody>\n",
       "    <tr>\n",
       "      <th>0</th>\n",
       "      <td>ARISTOLOCHICACID</td>\n",
       "      <td>immune</td>\n",
       "      <td>9.060121</td>\n",
       "      <td>NaN</td>\n",
       "      <td>0</td>\n",
       "    </tr>\n",
       "    <tr>\n",
       "      <th>1</th>\n",
       "      <td>LEADACETATE</td>\n",
       "      <td>metabolism</td>\n",
       "      <td>8.701595</td>\n",
       "      <td>0.0</td>\n",
       "      <td>38</td>\n",
       "    </tr>\n",
       "    <tr>\n",
       "      <th>2</th>\n",
       "      <td>ARISTOLOCHICACID</td>\n",
       "      <td>immune</td>\n",
       "      <td>8.459835</td>\n",
       "      <td>NaN</td>\n",
       "      <td>0</td>\n",
       "    </tr>\n",
       "    <tr>\n",
       "      <th>3</th>\n",
       "      <td>OCHRATOXINA</td>\n",
       "      <td>metabolism</td>\n",
       "      <td>7.878635</td>\n",
       "      <td>0.0</td>\n",
       "      <td>36</td>\n",
       "    </tr>\n",
       "    <tr>\n",
       "      <th>4</th>\n",
       "      <td>OCHRATOXINA</td>\n",
       "      <td>metabolism</td>\n",
       "      <td>7.812291</td>\n",
       "      <td>0.0</td>\n",
       "      <td>36</td>\n",
       "    </tr>\n",
       "    <tr>\n",
       "      <th>5</th>\n",
       "      <td>OCHRATOXINA</td>\n",
       "      <td>energy</td>\n",
       "      <td>7.643661</td>\n",
       "      <td>0.0</td>\n",
       "      <td>14</td>\n",
       "    </tr>\n",
       "    <tr>\n",
       "      <th>6</th>\n",
       "      <td>OCHRATOXINA</td>\n",
       "      <td>hormone</td>\n",
       "      <td>7.382725</td>\n",
       "      <td>0.0</td>\n",
       "      <td>7</td>\n",
       "    </tr>\n",
       "    <tr>\n",
       "      <th>7</th>\n",
       "      <td>OCHRATOXINA</td>\n",
       "      <td>hormone</td>\n",
       "      <td>7.287448</td>\n",
       "      <td>0.0</td>\n",
       "      <td>7</td>\n",
       "    </tr>\n",
       "    <tr>\n",
       "      <th>8</th>\n",
       "      <td>OCHRATOXINA</td>\n",
       "      <td>signaling</td>\n",
       "      <td>7.207710</td>\n",
       "      <td>0.0</td>\n",
       "      <td>8</td>\n",
       "    </tr>\n",
       "    <tr>\n",
       "      <th>9</th>\n",
       "      <td>MITOMYCINC</td>\n",
       "      <td>lipid</td>\n",
       "      <td>7.035040</td>\n",
       "      <td>0.0</td>\n",
       "      <td>35</td>\n",
       "    </tr>\n",
       "  </tbody>\n",
       "</table>\n",
       "</div>"
      ],
      "text/plain": [
       "          condition annotation_term  abs_eg_score  bioBERT_lit_score  \\\n",
       "0  ARISTOLOCHICACID          immune      9.060121                NaN   \n",
       "1       LEADACETATE      metabolism      8.701595                0.0   \n",
       "2  ARISTOLOCHICACID          immune      8.459835                NaN   \n",
       "3       OCHRATOXINA      metabolism      7.878635                0.0   \n",
       "4       OCHRATOXINA      metabolism      7.812291                0.0   \n",
       "5       OCHRATOXINA          energy      7.643661                0.0   \n",
       "6       OCHRATOXINA         hormone      7.382725                0.0   \n",
       "7       OCHRATOXINA         hormone      7.287448                0.0   \n",
       "8       OCHRATOXINA       signaling      7.207710                0.0   \n",
       "9        MITOMYCINC           lipid      7.035040                0.0   \n",
       "\n",
       "   n_abstracts  \n",
       "0            0  \n",
       "1           38  \n",
       "2            0  \n",
       "3           36  \n",
       "4           36  \n",
       "5           14  \n",
       "6            7  \n",
       "7            7  \n",
       "8            8  \n",
       "9           35  "
      ]
     },
     "execution_count": 18,
     "metadata": {},
     "output_type": "execute_result"
    }
   ],
   "source": [
    "df_biobert_validated.sort_values(\"abs_eg_score\", ascending=False)"
   ]
  },
  {
   "cell_type": "code",
   "execution_count": 20,
   "id": "8f1e9cc4-8aab-42d8-bec3-7deaeab8b4d8",
   "metadata": {},
   "outputs": [
    {
     "name": "stdout",
     "output_type": "stream",
     "text": [
      "Abstract example: DOI: 10.1245/s10434-018-6628-x\n",
      "PMCID: PMC6132421\n",
      "PMID: 30027459 [Indexed for MEDLINE]\n",
      "Term embedding: [ 0.14805877 -0.12710814 -0.02423691 -0.10718861 -0.3888849 ]\n",
      "Abstract embedding: [ 0.07397994 -0.3922555  -0.06351098  0.0311538   0.35845697]\n"
     ]
    }
   ],
   "source": [
    "print(\"Abstract example:\", abstracts[20])\n",
    "print(\"Term embedding:\", get_embedding(term)[:5])\n",
    "print(\"Abstract embedding:\", get_embedding(abstracts[0])[:5])"
   ]
  },
  {
   "cell_type": "markdown",
   "id": "150553e9-1b8d-4f16-acbf-f522c56c2672",
   "metadata": {},
   "source": [
    "## Weighted Directed Random Walk (wDRW)"
   ]
  },
  {
   "cell_type": "markdown",
   "id": "d0afde8e-b9e1-4357-9c1e-ac352168dab8",
   "metadata": {},
   "source": [
    "## Weighted Significant Directed Random Walk (s-wDRW)"
   ]
  },
  {
   "cell_type": "markdown",
   "id": "63f7a523-9bdd-4a98-9419-daea5e57be16",
   "metadata": {},
   "source": [
    "# PHH"
   ]
  },
  {
   "cell_type": "markdown",
   "id": "2a4db784-7715-4fd4-b079-8992870faf71",
   "metadata": {},
   "source": [
    "## Eigengene scoring"
   ]
  },
  {
   "cell_type": "markdown",
   "id": "d7e2e1dc-3942-40cc-8e6c-5e38666f0f69",
   "metadata": {},
   "source": [
    "## Weighted Directed Random Walk (wDRW)"
   ]
  },
  {
   "cell_type": "markdown",
   "id": "0adaaa75-cecd-45f2-9d3c-3234fe40ec02",
   "metadata": {},
   "source": [
    "## Weighted Significant Directed Random Walk (s-wDRW)"
   ]
  },
  {
   "cell_type": "code",
   "execution_count": null,
   "id": "476feaf9-6dd4-46d0-ab5a-da6773f11dad",
   "metadata": {},
   "outputs": [],
   "source": []
  }
 ],
 "metadata": {
  "kernelspec": {
   "display_name": "Python 3 (ipykernel)",
   "language": "python",
   "name": "python3"
  },
  "language_info": {
   "codemirror_mode": {
    "name": "ipython",
    "version": 3
   },
   "file_extension": ".py",
   "mimetype": "text/x-python",
   "name": "python",
   "nbconvert_exporter": "python",
   "pygments_lexer": "ipython3",
   "version": "3.10.0"
  }
 },
 "nbformat": 4,
 "nbformat_minor": 5
}
